{
  "nbformat": 4,
  "nbformat_minor": 0,
  "metadata": {
    "kernelspec": {
      "language": "python",
      "display_name": "Python 3",
      "name": "python3"
    },
    "language_info": {
      "pygments_lexer": "ipython3",
      "nbconvert_exporter": "python",
      "version": "3.6.4",
      "file_extension": ".py",
      "codemirror_mode": {
        "name": "ipython",
        "version": 3
      },
      "name": "python",
      "mimetype": "text/x-python"
    },
    "colab": {
      "name": "DM_HW3_20141537_Data2.ipynb",
      "provenance": [],
      "include_colab_link": true
    }
  },
  "cells": [
    {
      "cell_type": "markdown",
      "metadata": {
        "id": "view-in-github",
        "colab_type": "text"
      },
      "source": [
        "<a href=\"https://colab.research.google.com/github/songseokbeom/ML_study/blob/master/Data_Mining/DM_HW3_20141537_Data2.ipynb\" target=\"_parent\"><img src=\"https://colab.research.google.com/assets/colab-badge.svg\" alt=\"Open In Colab\"/></a>"
      ]
    },
    {
      "cell_type": "code",
      "metadata": {
        "_uuid": "8f2839f25d086af736a60e9eeb907d3b93b6e0e5",
        "_cell_guid": "b1076dfc-b9ad-4769-8c92-a6c4dae69d19",
        "trusted": true,
        "id": "jIOh0vNbAHNc",
        "colab_type": "code",
        "colab": {},
        "outputId": "4880dfb7-6b72-4088-a47a-1bf9f4d89f50"
      },
      "source": [
        "# This Python 3 environment comes with many helpful analytics libraries installed\n",
        "# It is defined by the kaggle/python docker image: https://github.com/kaggle/docker-python\n",
        "# For example, here's several helpful packages to load in \n",
        "!pip install scikit-learn==0.20.3\n",
        "import numpy as np # linear algebra\n",
        "import pandas as pd # data processing, CSV file I/O (e.g. pd.read_csv)\n",
        "\n",
        "# Input data files are available in the \"../input/\" directory.\n",
        "# For example, running this (by clicking run or pressing Shift+Enter) will list all files under the input directory\n",
        "\n",
        "import os\n",
        "for dirname, _, filenames in os.walk('/kaggle/input'):\n",
        "    for filename in filenames:\n",
        "        print(os.path.join(dirname, filename))\n",
        "\n",
        "# Any results you write to the current directory are saved as output."
      ],
      "execution_count": 0,
      "outputs": [
        {
          "output_type": "stream",
          "text": [
            "Collecting scikit-learn==0.20.3\n",
            "  Downloading scikit_learn-0.20.3-cp36-cp36m-manylinux1_x86_64.whl (5.4 MB)\n",
            "\u001b[K     |████████████████████████████████| 5.4 MB 2.3 MB/s eta 0:00:01\n",
            "\u001b[?25hRequirement already satisfied: numpy>=1.8.2 in /opt/conda/lib/python3.6/site-packages (from scikit-learn==0.20.3) (1.18.2)\n",
            "Requirement already satisfied: scipy>=0.13.3 in /opt/conda/lib/python3.6/site-packages (from scikit-learn==0.20.3) (1.4.1)\n",
            "\u001b[31mERROR: tpot 0.11.1 has requirement scikit-learn>=0.22.0, but you'll have scikit-learn 0.20.3 which is incompatible.\u001b[0m\n",
            "\u001b[31mERROR: kmeans-smote 0.1.2 has requirement imbalanced-learn<0.5,>=0.4.0, but you'll have imbalanced-learn 0.6.2 which is incompatible.\u001b[0m\n",
            "\u001b[31mERROR: kmeans-smote 0.1.2 has requirement numpy<1.16,>=1.13, but you'll have numpy 1.18.2 which is incompatible.\u001b[0m\n",
            "\u001b[31mERROR: imbalanced-learn 0.6.2 has requirement scikit-learn>=0.22, but you'll have scikit-learn 0.20.3 which is incompatible.\u001b[0m\n",
            "\u001b[31mERROR: fancyimpute 0.5.4 has requirement scikit-learn>=0.21.2, but you'll have scikit-learn 0.20.3 which is incompatible.\u001b[0m\n",
            "\u001b[31mERROR: dask-ml 1.2.0 has requirement scikit-learn>=0.21, but you'll have scikit-learn 0.20.3 which is incompatible.\u001b[0m\n",
            "\u001b[31mERROR: cesium 0.9.12 has requirement scikit-learn>=0.22.1, but you'll have scikit-learn 0.20.3 which is incompatible.\u001b[0m\n",
            "\u001b[31mERROR: allennlp 0.9.0 has requirement spacy<2.2,>=2.1.0, but you'll have spacy 2.2.3 which is incompatible.\u001b[0m\n",
            "Installing collected packages: scikit-learn\n",
            "  Attempting uninstall: scikit-learn\n",
            "    Found existing installation: scikit-learn 0.22.2.post1\n",
            "    Uninstalling scikit-learn-0.22.2.post1:\n",
            "      Successfully uninstalled scikit-learn-0.22.2.post1\n",
            "Successfully installed scikit-learn-0.20.3\n",
            "/kaggle/input/2019-1st-ml-month-with-kakr/sample_submission.csv\n",
            "/kaggle/input/2019-1st-ml-month-with-kakr/test.csv\n",
            "/kaggle/input/2019-1st-ml-month-with-kakr/train.csv\n"
          ],
          "name": "stdout"
        }
      ]
    },
    {
      "cell_type": "code",
      "metadata": {
        "_uuid": "d629ff2d2480ee46fbb7e2d37f6b5fab8052498a",
        "_cell_guid": "79c7e3d0-c299-4dcb-8224-4455121ee9b0",
        "trusted": true,
        "id": "TPgMlG1AAHNh",
        "colab_type": "code",
        "colab": {}
      },
      "source": [
        "import matplotlib.pyplot as plt\n",
        "import seaborn as sns\n",
        "import warnings\n",
        "warnings.filterwarnings('ignore')"
      ],
      "execution_count": 0,
      "outputs": []
    },
    {
      "cell_type": "code",
      "metadata": {
        "trusted": true,
        "id": "ZjWt0o8lAHNk",
        "colab_type": "code",
        "colab": {}
      },
      "source": [
        "train = pd.read_csv('/kaggle/input/2019-1st-ml-month-with-kakr/train.csv')\n",
        "test = pd.read_csv('/kaggle/input/2019-1st-ml-month-with-kakr/test.csv')"
      ],
      "execution_count": 0,
      "outputs": []
    },
    {
      "cell_type": "code",
      "metadata": {
        "trusted": true,
        "id": "6-lSXH-wAHNm",
        "colab_type": "code",
        "colab": {}
      },
      "source": [
        "test['Survived'] = np.nan\n",
        "\n",
        "full = pd.concat([train, test])"
      ],
      "execution_count": 0,
      "outputs": []
    },
    {
      "cell_type": "code",
      "metadata": {
        "trusted": true,
        "id": "WW3hFo-LAHNp",
        "colab_type": "code",
        "colab": {}
      },
      "source": [
        "from statistics import mode\n",
        "\n",
        "full['Embarked'] = full[\"Embarked\"].fillna(mode(full[\"Embarked\"]))\n",
        "\n",
        "full[\"Sex\"][full[\"Sex\"] == \"male\"] = int(0)\n",
        "full[\"Sex\"][full[\"Sex\"] == \"female\"] = int(1)\n",
        "\n",
        "full[\"Embarked\"][full[\"Embarked\"] == \"S\"] = int(0)\n",
        "full[\"Embarked\"][full[\"Embarked\"] == \"C\"] = int(1)\n",
        "full[\"Embarked\"][full[\"Embarked\"] == \"Q\"] = int(2)"
      ],
      "execution_count": 0,
      "outputs": []
    },
    {
      "cell_type": "code",
      "metadata": {
        "trusted": true,
        "id": "5Fe3X8xAAHNr",
        "colab_type": "code",
        "colab": {},
        "outputId": "71dac440-f032-429a-973b-4697a45d96ec"
      },
      "source": [
        "sns.heatmap(full.corr(), annot=True)"
      ],
      "execution_count": 0,
      "outputs": [
        {
          "output_type": "execute_result",
          "data": {
            "text/plain": [
              "<matplotlib.axes._subplots.AxesSubplot at 0x7fac7dca5e48>"
            ]
          },
          "metadata": {
            "tags": []
          },
          "execution_count": 6
        },
        {
          "output_type": "display_data",
          "data": {
            "text/plain": [
              "<Figure size 432x288 with 2 Axes>"
            ],
            "image/png": "[encoded data removed]"
          },
          "metadata": {
            "tags": [],
            "needs_background": "light"
          }
        }
      ]
    },
    {
      "cell_type": "code",
      "metadata": {
        "trusted": true,
        "id": "Bif3QKq8AHNu",
        "colab_type": "code",
        "colab": {}
      },
      "source": [
        "full['Age'] = full.groupby(\"Pclass\")['Age'].transform(lambda x: x.fillna(x.median()))"
      ],
      "execution_count": 0,
      "outputs": []
    },
    {
      "cell_type": "code",
      "metadata": {
        "trusted": true,
        "id": "U4Ooc_ztAHNx",
        "colab_type": "code",
        "colab": {}
      },
      "source": [
        "full['Fare'] = full.groupby(\"Pclass\")[\"Fare\"].transform(lambda x: x.fillna(x.median()))"
      ],
      "execution_count": 0,
      "outputs": []
    },
    {
      "cell_type": "code",
      "metadata": {
        "trusted": true,
        "id": "plj9MddpAHNz",
        "colab_type": "code",
        "colab": {}
      },
      "source": [
        "full['Cabin'] = full['Cabin'].fillna('U')"
      ],
      "execution_count": 0,
      "outputs": []
    },
    {
      "cell_type": "code",
      "metadata": {
        "trusted": true,
        "id": "s1mHOw4sAHN1",
        "colab_type": "code",
        "colab": {}
      },
      "source": [
        "import re\n",
        "\n",
        "full['Cabin'] = full['Cabin'].map(lambda x: re.compile(\"([a-zA-Z]+)\").search(x).group())"
      ],
      "execution_count": 0,
      "outputs": []
    },
    {
      "cell_type": "code",
      "metadata": {
        "trusted": true,
        "id": "ubx1_WSbAHN4",
        "colab_type": "code",
        "colab": {}
      },
      "source": [
        "cabin_category = {'A':1, 'B':2, 'C':3, 'D':4, 'E':5, 'F':6, 'G':7, 'T':8, 'U':9}\n",
        "full['Cabin'] = full['Cabin'].map(cabin_category)"
      ],
      "execution_count": 0,
      "outputs": []
    },
    {
      "cell_type": "code",
      "metadata": {
        "trusted": true,
        "id": "mktXgtLuAHN7",
        "colab_type": "code",
        "colab": {}
      },
      "source": [
        "full['Title'] = full.Name.str.extract('([A-Za-z]+)\\.', expand=False)"
      ],
      "execution_count": 0,
      "outputs": []
    },
    {
      "cell_type": "code",
      "metadata": {
        "trusted": true,
        "id": "Vqsf8RLkAHN-",
        "colab_type": "code",
        "colab": {}
      },
      "source": [
        "full['Title'] = full['Title'].replace(['Rev', 'Dr', 'Col', 'Ms', 'Mlle', 'Major', 'Countess', 'Capt', 'Dona', 'Jonkheer', 'Lady', 'Sir',\n",
        "                                      'Mme', 'Don'], 'Other')"
      ],
      "execution_count": 0,
      "outputs": []
    },
    {
      "cell_type": "code",
      "metadata": {
        "trusted": true,
        "id": "CzJXNPeyAHOA",
        "colab_type": "code",
        "colab": {}
      },
      "source": [
        "title_category = {'Mr':1, 'Miss':2, 'Mrs':3, 'Master':4, 'Other':5}\n",
        "full['Title'] = full['Title'].map(title_category)"
      ],
      "execution_count": 0,
      "outputs": []
    },
    {
      "cell_type": "code",
      "metadata": {
        "trusted": true,
        "id": "V5LJbGdCAHOD",
        "colab_type": "code",
        "colab": {}
      },
      "source": [
        "full['familySize'] = full['SibSp'] + full['Parch'] + 1"
      ],
      "execution_count": 0,
      "outputs": []
    },
    {
      "cell_type": "code",
      "metadata": {
        "trusted": true,
        "id": "q3BYiqcBAHOF",
        "colab_type": "code",
        "colab": {}
      },
      "source": [
        "full = full.drop(['Name', 'SibSp', 'Parch', 'Ticket'], axis=1)"
      ],
      "execution_count": 0,
      "outputs": []
    },
    {
      "cell_type": "code",
      "metadata": {
        "trusted": true,
        "id": "wVm4_y5NAHOH",
        "colab_type": "code",
        "colab": {}
      },
      "source": [
        "test = full[full['Survived'].isna()].drop(['Survived'], axis=1)"
      ],
      "execution_count": 0,
      "outputs": []
    },
    {
      "cell_type": "code",
      "metadata": {
        "trusted": true,
        "id": "ugRrx9HYAHOJ",
        "colab_type": "code",
        "colab": {}
      },
      "source": [
        "train = full[full['Survived'].notna()]"
      ],
      "execution_count": 0,
      "outputs": []
    },
    {
      "cell_type": "code",
      "metadata": {
        "trusted": true,
        "id": "xOspVczMAHOM",
        "colab_type": "code",
        "colab": {}
      },
      "source": [
        "train['Survived'] = train['Survived'].astype(np.int8)"
      ],
      "execution_count": 0,
      "outputs": []
    },
    {
      "cell_type": "code",
      "metadata": {
        "trusted": true,
        "id": "lmhtz5g6AHOQ",
        "colab_type": "code",
        "colab": {},
        "outputId": "11c2668f-30e7-4045-c27a-55dec7ad0e30"
      },
      "source": [
        "from sklearn.model_selection import train_test_split\n",
        "train['Embarked'] = train.Embarked.astype(int)\n",
        "train['Sex'] = train.Sex.astype(int)\n",
        "train.info()\n",
        "X_train, X_test, y_train, y_test = train_test_split(train.drop(['Survived', 'PassengerId'], axis=1),\n",
        "                                                   train['Survived'], test_size=0.2, random_state=2)"
      ],
      "execution_count": 0,
      "outputs": [
        {
          "output_type": "stream",
          "text": [
            "<class 'pandas.core.frame.DataFrame'>\n",
            "Int64Index: 891 entries, 0 to 890\n",
            "Data columns (total 10 columns):\n",
            "Age            891 non-null float64\n",
            "Cabin          891 non-null int64\n",
            "Embarked       891 non-null int64\n",
            "Fare           891 non-null float64\n",
            "PassengerId    891 non-null int64\n",
            "Pclass         891 non-null int64\n",
            "Sex            891 non-null int64\n",
            "Survived       891 non-null int8\n",
            "Title          891 non-null int64\n",
            "familySize     891 non-null int64\n",
            "dtypes: float64(2), int64(7), int8(1)\n",
            "memory usage: 70.5 KB\n"
          ],
          "name": "stdout"
        }
      ]
    },
    {
      "cell_type": "code",
      "metadata": {
        "trusted": true,
        "id": "bFlOlvV4AHOS",
        "colab_type": "code",
        "colab": {},
        "outputId": "4c98f0e0-1c91-4488-92dd-cf42837576f8"
      },
      "source": [
        "def eval(model, model_name, X_test, Y_test):\n",
        "    Y_hat = model.predict(X_test)\n",
        "    accuracy = np.sum(np.where(Y_hat - Y_test==0, 1, 0)) / X_test.shape[0]\n",
        "    print(f\"Test data prediction accracy {model_name} : {accuracy}\")\n",
        "!pip install decision-tree-id3\n",
        "!pip install xgboost\n",
        "!pip install lightgbm"
      ],
      "execution_count": 0,
      "outputs": [
        {
          "output_type": "stream",
          "text": [
            "Collecting decision-tree-id3\n",
            "  Downloading decision-tree-id3-0.1.2.tar.gz (12 kB)\n",
            "Requirement already satisfied: nose>=1.1.2 in /opt/conda/lib/python3.6/site-packages (from decision-tree-id3) (1.3.7)\n",
            "Requirement already satisfied: scikit-learn>=0.17 in /opt/conda/lib/python3.6/site-packages (from decision-tree-id3) (0.20.3)\n",
            "Requirement already satisfied: numpy>=1.6.1 in /opt/conda/lib/python3.6/site-packages (from decision-tree-id3) (1.18.2)\n",
            "Requirement already satisfied: scipy>=0.13.3 in /opt/conda/lib/python3.6/site-packages (from scikit-learn>=0.17->decision-tree-id3) (1.4.1)\n",
            "Building wheels for collected packages: decision-tree-id3\n",
            "  Building wheel for decision-tree-id3 (setup.py) ... \u001b[?25ldone\n",
            "\u001b[?25h  Created wheel for decision-tree-id3: filename=decision_tree_id3-0.1.2-py3-none-any.whl size=15961 sha256=ee872aa501151edd8753b33a337e1ce76d0a65fc0f89802b12512af8f7ff648d\n",
            "  Stored in directory: /root/.cache/pip/wheels/bd/7c/1e/db05db2fb5c80f3a6162b534c20874cc194381635172d2d901\n",
            "Successfully built decision-tree-id3\n",
            "Installing collected packages: decision-tree-id3\n",
            "Successfully installed decision-tree-id3-0.1.2\n",
            "Requirement already satisfied: xgboost in /opt/conda/lib/python3.6/site-packages (1.0.2)\n",
            "Requirement already satisfied: numpy in /opt/conda/lib/python3.6/site-packages (from xgboost) (1.18.2)\n",
            "Requirement already satisfied: scipy in /opt/conda/lib/python3.6/site-packages (from xgboost) (1.4.1)\n",
            "Requirement already satisfied: lightgbm in /opt/conda/lib/python3.6/site-packages (2.3.1)\n",
            "Requirement already satisfied: numpy in /opt/conda/lib/python3.6/site-packages (from lightgbm) (1.18.2)\n",
            "Requirement already satisfied: scikit-learn in /opt/conda/lib/python3.6/site-packages (from lightgbm) (0.20.3)\n",
            "Requirement already satisfied: scipy in /opt/conda/lib/python3.6/site-packages (from lightgbm) (1.4.1)\n"
          ],
          "name": "stdout"
        }
      ]
    },
    {
      "cell_type": "code",
      "metadata": {
        "trusted": true,
        "id": "7bZ6unj7AHOU",
        "colab_type": "code",
        "colab": {}
      },
      "source": [
        "from sklearn.model_selection import GridSearchCV\n",
        "from id3 import Id3Estimator\n",
        "\n",
        "ID3_model = Id3Estimator()\n",
        "ID3_model.fit(X_train, y_train)\n",
        "eval(ID3_model, \"ID3\", X_test, y_test)"
      ],
      "execution_count": 0,
      "outputs": []
    },
    {
      "cell_type": "code",
      "metadata": {
        "trusted": true,
        "id": "UnTWGOI3AHOW",
        "colab_type": "code",
        "colab": {}
      },
      "source": [
        "from sklearn.tree import DecisionTreeClassifier\n",
        "\n",
        "CART_model = DecisionTreeClassifier()\n",
        "CART_model.fit(X_train, y_train)\n",
        "eval(CART_model, \"CART\", X_test, y_test)"
      ],
      "execution_count": 0,
      "outputs": []
    },
    {
      "cell_type": "code",
      "metadata": {
        "trusted": true,
        "id": "6AGOjU-qAHOY",
        "colab_type": "code",
        "colab": {}
      },
      "source": [
        "from sklearn.ensemble import RandomForestClassifier\n",
        "\n",
        "Random_Forest_model = RandomForestClassifier()\n",
        "Random_Forest_model.fit(X_train, y_train)\n",
        "eval(Random_Forest_model, \"Random Forest\", X_test, y_test)"
      ],
      "execution_count": 0,
      "outputs": []
    },
    {
      "cell_type": "code",
      "metadata": {
        "trusted": true,
        "id": "UuyNzdPhAHOa",
        "colab_type": "code",
        "colab": {}
      },
      "source": [
        "import xgboost as xgb\n",
        "\n",
        "XGB_model = xgb.XGBClassifier(objective=\"multi:softmax\", num_class=2)\n",
        "XGB_model.fit(X_train, y_train)\n",
        "eval(XGB_model, \"XGBoost\", X_test, y_test)"
      ],
      "execution_count": 0,
      "outputs": []
    },
    {
      "cell_type": "code",
      "metadata": {
        "trusted": true,
        "id": "AC2VsuE-AHOc",
        "colab_type": "code",
        "colab": {}
      },
      "source": [
        "import lightgbm as lgb\n",
        "\n",
        "LGBM_model = lgb.LGBMClassifier(objective='binary')\n",
        "LGBM_model.fit(X_train, y_train)\n",
        "eval(LGBM_model, \"Lightgbm\", X_test, y_test)"
      ],
      "execution_count": 0,
      "outputs": []
    },
    {
      "cell_type": "code",
      "metadata": {
        "trusted": true,
        "id": "Tp1KxuMSAHOe",
        "colab_type": "code",
        "colab": {}
      },
      "source": [
        "from sklearn.naive_bayes import GaussianNB\n",
        "\n",
        "NB_model = GaussianNB()\n",
        "NB_model.fit(X_train, y_train)\n",
        "eval(NB_model, \"NaiveBayes\", X_test, y_test)"
      ],
      "execution_count": 0,
      "outputs": []
    },
    {
      "cell_type": "code",
      "metadata": {
        "trusted": true,
        "id": "5bXtFv4GAHOh",
        "colab_type": "code",
        "colab": {}
      },
      "source": [
        "from sklearn.ensemble import VotingClassifier\n",
        "\n",
        "ensemble_classifier = VotingClassifier(estimators=[('CART', CART_model),\n",
        "                                                  ('Random_Forest', Random_Forest_model),\n",
        "                                                  ('XGBoost', XGB_model),\n",
        "                                                  ('LightGBM', LGBM_model),\n",
        "                                                  ('Naive Bayes', NB_model),\n",
        "                                                  ('ID3', ID3_model)],\n",
        "                                     voting='hard')\n",
        "ensemble_classifier.fit(X_train, y_train)\n",
        "eval(ensemble_classifier, \"Ensemble\", X_test, y_test)"
      ],
      "execution_count": 0,
      "outputs": []
    }
  ]
}