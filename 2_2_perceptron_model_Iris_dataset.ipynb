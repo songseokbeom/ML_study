{
  "nbformat": 4,
  "nbformat_minor": 0,
  "metadata": {
    "colab": {
      "name": "2_2_perceptron_model_Iris_dataset.ipynb",
      "provenance": [],
      "collapsed_sections": [],
      "authorship_tag": "ABX9TyNPDV4MbncI0St6V5uHfL6H",
      "include_colab_link": true
    },
    "kernelspec": {
      "name": "python3",
      "display_name": "Python 3"
    }
  },
  "cells": [
    {
      "cell_type": "markdown",
      "metadata": {
        "id": "view-in-github",
        "colab_type": "text"
      },
      "source": [
        "<a href=\"https://colab.research.google.com/github/songseokbeom/ML_study/blob/master/2_2_perceptron_model_Iris_dataset.ipynb\" target=\"_parent\"><img src=\"https://colab.research.google.com/assets/colab-badge.svg\" alt=\"Open In Colab\"/></a>"
      ]
    },
    {
      "cell_type": "code",
      "metadata": {
        "id": "APtaiINIaKvV",
        "colab_type": "code",
        "colab": {}
      },
      "source": [
        "import numpy as np\n",
        "import pandas as pd\n",
        "import matplotlib.pyplot as plt\n",
        "\n",
        "df = pd.read_csv('https://archive.ics.uci.edu/ml/'\\\n",
        "                 'machine-learning-databases/iris/iris.data',\n",
        "                 header=None)\n",
        "\n",
        "y = df.iloc[0:100, 4].values # y is numpy array (by.df.values)\n",
        "y = np.where(y == 'Iris-setosa', -1, 1)\n",
        "X = np.transpose(df.iloc[0:100, [0, 2]].values)\n",
        "y = np.reshape(y, (1, y.shape[0]))\n",
        "# pandas의 dataframe 객체 df에 데이터셋 저장 이 후, dataframe의 iloc 메소드로 label과 feature를 추출"
      ],
      "execution_count": 0,
      "outputs": []
    },
    {
      "cell_type": "code",
      "metadata": {
        "id": "_I6kW1AEr9V6",
        "colab_type": "code",
        "colab": {
          "base_uri": "https://localhost:8080/",
          "height": 279
        },
        "outputId": "d11fd52c-6ed1-4d7a-d67f-5ca74e8c4bbe"
      },
      "source": [
        "plt.scatter(X[0, :50], X[1, :50], color='red', marker='o', label='setosa')\n",
        "plt.scatter(X[0, 50:100], X[1, 50:100], color='blue', marker='x', label='versicolor')\n",
        "\n",
        "plt.xlabel('sepal length [cm]')\n",
        "plt.ylabel('petal length [cm]')\n",
        "plt.legend(loc='upper left')\n",
        "plt.show()"
      ],
      "execution_count": 110,
      "outputs": [
        {
          "output_type": "display_data",
          "data": {
            "image/png": "[encoded data removed]",
            "text/plain": [
              "<Figure size 432x288 with 1 Axes>"
            ]
          },
          "metadata": {
            "tags": [],
            "needs_background": "light"
          }
        }
      ]
    },
    {
      "cell_type": "code",
      "metadata": {
        "id": "m8U6TfrTaTAp",
        "colab_type": "code",
        "colab": {}
      },
      "source": [
        "class perceptron(object):\n",
        "\n",
        "  def __init__(self, learning_rate = 0.01, iter=50, random_state = 1):\n",
        "    self.lr=learning_rate # 학습률\n",
        "    self.iter=iter # 학습 횟수\n",
        "    self.random_state=random_state\n",
        "\n",
        "  def fit(self, X, y):\n",
        "    rgen = np.random.RandomState(self.random_state)\n",
        "    self.w = rgen.normal(loc=0.0, scale=0.01, size=(1, X.shape[0]+1)) # 평균0, 편차가 0.01인 분포로 weight 초기화\n",
        "    self.errors = []\n",
        "\n",
        "    for a in range(self.iter):\n",
        "      error = 0\n",
        "      for i in range(X.shape[1]):\n",
        "        xi = np.reshape(X[:, i], (X.shape[0], 1))\n",
        "        yi = np.reshape(y[:, i], (y.shape[0], 1))\n",
        "        update = self.lr * (yi - self.predict(xi)) # loss, 실제 데이터와 예측 값의 차 \n",
        "        self.w[0, 1:] = self.w[0, 1:] + update * xi.T # 일괄적으로 업데이트\n",
        "        self.w[0, 0] += update # w[0]는 임계값을 0으로 만들어주는 특수한weight\n",
        "        error += int(update != 0.0) # loss가 0이 아니면(즉, 예측이 틀리면) error 추가\n",
        "      self.errors.append(error)\n",
        "  \n",
        "  def net_input(self, xi):\n",
        "    W = self.w[0, 1:]\n",
        "    W = np.reshape(W, (1, W.shape[0]))\n",
        "    z = np.dot(self.w[0, 1:], xi) + self.w[0, 0]\n",
        "    return z\n",
        "\n",
        "  def predict(self, xi):\n",
        "    return np.where(self.net_input(xi) >= 0.0, 1, -1)\n"
      ],
      "execution_count": 0,
      "outputs": []
    },
    {
      "cell_type": "code",
      "metadata": {
        "id": "l9ASSoFMedT7",
        "colab_type": "code",
        "colab": {
          "base_uri": "https://localhost:8080/",
          "height": 279
        },
        "outputId": "f725c8fd-7735-450d-b57f-bae965aec3db"
      },
      "source": [
        "model = perceptron(learning_rate=0.1, iter=10)\n",
        "model.fit(X, y)\n",
        "plt.plot(range(1, len(model.errors)+1),\n",
        "         model.errors, marker='o')\n",
        "plt.xlabel('Epochs')\n",
        "plt.ylabel('Error')\n",
        "plt.show()"
      ],
      "execution_count": 138,
      "outputs": [
        {
          "output_type": "display_data",
          "data": {
            "image/png": "[encoded data removed]",
            "text/plain": [
              "<Figure size 432x288 with 1 Axes>"
            ]
          },
          "metadata": {
            "tags": [],
            "needs_background": "light"
          }
        }
      ]
    },
    {
      "cell_type": "code",
      "metadata": {
        "id": "0ePq-1y8tfJ9",
        "colab_type": "code",
        "colab": {
          "base_uri": "https://localhost:8080/",
          "height": 280
        },
        "outputId": "d234b6bb-8776-4e5e-b707-fe1976b70542"
      },
      "source": [
        "from matplotlib.colors import ListedColormap\n",
        "\n",
        "def plot_decision_regions(X, y, classifier, resolution=0.02):\n",
        "  markers=('s', 'x', 'o', '^', 'v')\n",
        "  colors=('red', 'blue', 'lightgreen', 'gray', 'cyan')\n",
        "  cmap = ListedColormap(colors[:len(np.unique(y))]) # np.unique: find unique elements in numpy array\n",
        "\n",
        "  x1_min, x1_max = X[0, :].min() - 1, X[0, :].max() + 1\n",
        "  x2_min, x2_max = X[1, :].min() - 1, X[1, :].max() + 1\n",
        "\n",
        "  xx1, xx2 = np.meshgrid(np.arange(x1_min, x1_max, resolution),\n",
        "                         np.arange(x2_min, x2_max, resolution))\n",
        "\n",
        "  Z = classifier.predict(np.array([xx1.ravel(), xx2.ravel()]))\n",
        "  Z = Z.reshape(xx1.shape)\n",
        "  plt.contourf(xx1.T, xx2.T, Z.T, alpha=0.3, cmap=cmap)\n",
        "  plt.xlim(xx1.min(), xx1.max())\n",
        "  plt.ylim(xx2.min(), xx2.max())\n",
        "\n",
        "  for idx, cl in enumerate(np.unique(y)):\n",
        "    plt.scatter(x=X[0, y[0, :]==cl],\n",
        "                y=X[1, y[0, :]==cl],\n",
        "                alpha=0.8,\n",
        "                c=colors[idx],\n",
        "                marker=markers[idx],\n",
        "                label=cl,\n",
        "                edgecolor='black')\n",
        "    \n",
        "plot_decision_regions(X, y, classifier=model)\n",
        "plt.xlabel('sepal length [cm]')\n",
        "plt.ylabel('petal length [cm]')\n",
        "plt.legend(loc='upper left')\n",
        "plt.show()"
      ],
      "execution_count": 192,
      "outputs": [
        {
          "output_type": "display_data",
          "data": {
            "image/png": "[encoded data removed]",
            "text/plain": [
              "<Figure size 432x288 with 1 Axes>"
            ]
          },
          "metadata": {
            "tags": [],
            "needs_background": "light"
          }
        }
      ]
    },
    {
      "cell_type": "code",
      "metadata": {
        "id": "rhDtefx-vZVS",
        "colab_type": "code",
        "colab": {}
      },
      "source": [
        ""
      ],
      "execution_count": 0,
      "outputs": []
    }
  ]
}