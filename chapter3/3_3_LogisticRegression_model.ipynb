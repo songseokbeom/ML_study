{
  "nbformat": 4,
  "nbformat_minor": 0,
  "metadata": {
    "colab": {
      "name": "Untitled8.ipynb",
      "provenance": [],
      "authorship_tag": "ABX9TyPUIdMQyPSBSXOk3W0N5oSz",
      "include_colab_link": true
    },
    "kernelspec": {
      "name": "python3",
      "display_name": "Python 3"
    }
  },
  "cells": [
    {
      "cell_type": "markdown",
      "metadata": {
        "id": "view-in-github",
        "colab_type": "text"
      },
      "source": [
        "<a href=\"https://colab.research.google.com/github/songseokbeom/ML_study/blob/master/3_3_LogisticRegression_model.ipynb\" target=\"_parent\"><img src=\"https://colab.research.google.com/assets/colab-badge.svg\" alt=\"Open In Colab\"/></a>"
      ]
    },
    {
      "cell_type": "code",
      "metadata": {
        "id": "qVXbGraO02mO",
        "colab_type": "code",
        "colab": {}
      },
      "source": [
        "import numpy as np\n",
        "from sklearn import datasets\n",
        "from sklearn.model_selection import train_test_split\n",
        "from sklearn.preprocessing import StandardScaler\n",
        "from matplotlib.colors import ListedColormap\n",
        "import matplotlib.pyplot as plt\n",
        "\n",
        "iris = datasets.load_iris()\n",
        "X = iris.data[:, [2, 3]]\n",
        "y = iris.target\n",
        "X_train, X_test, Y_train, Y_test = train_test_split(\n",
        "    X, y, test_size=0.3, random_state=1, stratify=y)"
      ],
      "execution_count": 0,
      "outputs": []
    },
    {
      "cell_type": "code",
      "metadata": {
        "id": "isnsUANI-zYb",
        "colab_type": "code",
        "colab": {}
      },
      "source": [
        "scaler = StandardScaler()\n",
        "scaler.fit(X_train)\n",
        "X_train_std = scaler.transform(X_train)\n",
        "X_test_std = scaler.transform(X_test)\n",
        "X_train_std = X_train_std.T\n",
        "X_test_std = X_test_std.T\n",
        "Y_train = np.reshape(Y_train, (1, Y_train.shape[0]))\n",
        "Y_test = np.reshape(Y_test, (1, Y_test.shape[0]))"
      ],
      "execution_count": 0,
      "outputs": []
    },
    {
      "cell_type": "code",
      "metadata": {
        "id": "vZ3U7bNf1Emi",
        "colab_type": "code",
        "colab": {}
      },
      "source": [
        "class LogisticRegressionGD(object):\n",
        "\n",
        "  def __init__(self, lr=0.05, iter=100, random_state=1):\n",
        "    self.lr = lr\n",
        "    self.iter = iter\n",
        "    self.random_state = random_state\n",
        "\n",
        "  def fit(self, X, y):\n",
        "\n",
        "    random_generator = np.random.RandomState(self.random_state)\n",
        "    self.w = random_generator.normal(loc=0.0, scale=0.01,\n",
        "                         size=(1, X.shape[0]))\n",
        "    self.b = 0\n",
        "    self.cost = []\n",
        "\n",
        "    for i in range(self.iter):\n",
        "      z = self.net_input(X)\n",
        "      a = self.activation(z)\n",
        "      errors = a - y\n",
        "      self.update(errors, X)\n",
        "      cost = (-np.dot(y, np.log(a))-np.dot((1-y), np.log(1-a)))\n",
        "      self.cost.append(cost)\n",
        "    return self\n",
        "  \n",
        "  def activation(self, z):\n",
        "    return 1. / (1. + np.exp(-np.clip(z, -250, 250)))\n",
        "\n",
        "  def predict(self, X):\n",
        "    return np.where(self.net_input(X)>=0.0, 1, 0)\n",
        "\n",
        "  def net_input(self, X):\n",
        "    return np.dot(self.w[0, :], X) + self.b\n",
        "\n",
        "  def update(self, errors, X):\n",
        "    self.w[0, :] = self.w[0, :] - self.lr * np.dot(errors, X.T)\n",
        "    self.b = self.b - self.lr * errors.sum()"
      ],
      "execution_count": 0,
      "outputs": []
    },
    {
      "cell_type": "code",
      "metadata": {
        "id": "tk4HCEen8b9Z",
        "colab_type": "code",
        "colab": {
          "base_uri": "https://localhost:8080/",
          "height": 35
        },
        "outputId": "dd8fe7d7-67d4-4237-e1cf-e4666956c2fb"
      },
      "source": [
        "X_train_01 = X_train_std[:, (Y_train[0, :]==0)|(Y_train[0, :]==1)]\n",
        "Y_train_01 = Y_train[:, (Y_train[0, :]==0)|(Y_train[0, :]==1)]\n",
        "\n",
        "logistic_model = LogisticRegressionGD(lr=0.05, iter=1000, random_state=1)\n",
        "logistic_model.fit(X_train_01, Y_train_01)"
      ],
      "execution_count": 45,
      "outputs": [
        {
          "output_type": "execute_result",
          "data": {
            "text/plain": [
              "<__main__.LogisticRegressionGD at 0x7f29afaa7630>"
            ]
          },
          "metadata": {
            "tags": []
          },
          "execution_count": 45
        }
      ]
    },
    {
      "cell_type": "code",
      "metadata": {
        "id": "SbwM2cj99jpR",
        "colab_type": "code",
        "colab": {}
      },
      "source": [
        "\n",
        "from matplotlib.colors import ListedColormap\n",
        "\n",
        "def plot_decision_regions(X, y, classifier, resolution=0.02):\n",
        "  markers=('s', 'x', 'o', '^', 'v')\n",
        "  colors=('red', 'blue', 'lightgreen', 'gray', 'cyan')\n",
        "  cmap = ListedColormap(colors[:len(np.unique(y))]) # np.unique: find unique elements in numpy array\n",
        "\n",
        "  x1_min, x1_max = X[0, :].min() - 1, X[0, :].max() + 1\n",
        "  x2_min, x2_max = X[1, :].min() - 1, X[1, :].max() + 1\n",
        "\n",
        "  xx1, xx2 = np.meshgrid(np.arange(x1_min, x1_max, resolution),\n",
        "                         np.arange(x2_min, x2_max, resolution))\n",
        "\n",
        "  Z = classifier.predict(np.array([xx1.ravel(), xx2.ravel()]))\n",
        "  Z = Z.reshape(xx1.shape)\n",
        "  plt.contourf(xx1.T, xx2.T, Z.T, alpha=0.3, cmap=cmap)\n",
        "  plt.xlim(xx1.min(), xx1.max())\n",
        "  plt.ylim(xx2.min(), xx2.max())\n",
        "\n",
        "  for idx, cl in enumerate(np.unique(y)):\n",
        "    plt.scatter(x=X[0, y[0, :]==cl],\n",
        "                y=X[1, y[0, :]==cl],\n",
        "                alpha=0.8,\n",
        "                c=colors[idx],\n",
        "                marker=markers[idx],\n",
        "                label=cl,\n",
        "                edgecolor='black')"
      ],
      "execution_count": 0,
      "outputs": []
    },
    {
      "cell_type": "code",
      "metadata": {
        "id": "RNTKHATz-Ntt",
        "colab_type": "code",
        "colab": {
          "base_uri": "https://localhost:8080/",
          "height": 297
        },
        "outputId": "9f2e2221-4009-44ba-ab44-a4df4d32ccb6"
      },
      "source": [
        "plot_decision_regions(X=X_train_01,\n",
        "                      y=Y_train_01,\n",
        "                      classifier=logistic_model)\n",
        "plt.xlabel('petal length[std]')\n",
        "plt.ylabel('sepal length[std]')\n",
        "plt.legend(loc='upper left')\n",
        "plt.tight_layout()\n",
        "plt.show()"
      ],
      "execution_count": 47,
      "outputs": [
        {
          "output_type": "display_data",
          "data": {
            "image/png": "[encoded data removed]",
            "text/plain": [
              "<Figure size 432x288 with 1 Axes>"
            ]
          },
          "metadata": {
            "tags": [],
            "needs_background": "light"
          }
        }
      ]
    },
    {
      "cell_type": "code",
      "metadata": {
        "id": "AaFfIoTX_kNJ",
        "colab_type": "code",
        "colab": {}
      },
      "source": [
        ""
      ],
      "execution_count": 0,
      "outputs": []
    }
  ]
}
