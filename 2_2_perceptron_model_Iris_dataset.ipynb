{
  "nbformat": 4,
  "nbformat_minor": 0,
  "metadata": {
    "colab": {
      "name": "2_2_perceptron_model_Iris_dataset.ipynb",
      "provenance": [],
      "collapsed_sections": [],
      "authorship_tag": "ABX9TyMN066+Tlkkk1E/mVyaR77c",
      "include_colab_link": true
    },
    "kernelspec": {
      "name": "python3",
      "display_name": "Python 3"
    }
  },
  "cells": [
    {
      "cell_type": "markdown",
      "metadata": {
        "id": "view-in-github",
        "colab_type": "text"
      },
      "source": [
        "<a href=\"https://colab.research.google.com/github/songseokbeom/ML_study/blob/master/2_2_perceptron_model_Iris_dataset.ipynb\" target=\"_parent\"><img src=\"https://colab.research.google.com/assets/colab-badge.svg\" alt=\"Open In Colab\"/></a>"
      ]
    },
    {
      "cell_type": "code",
      "metadata": {
        "id": "APtaiINIaKvV",
        "colab_type": "code",
        "colab": {}
      },
      "source": [
        "import numpy as np\n",
        "import pandas as pd\n",
        "import matplotlib.pyplot as plt\n",
        "\n",
        "df = pd.read_csv('https://archive.ics.uci.edu/ml/'\\\n",
        "                 'machine-learning-databases/iris/iris.data',\n",
        "                 header=None)\n",
        "df.tail()\n",
        "\n",
        "y = df.iloc[0:100, 4].values # y is numpy array (by.df.values)\n",
        "y = np.where(y == 'Iris-setosa', -1, 1)\n",
        "X = df.iloc[0:100, [0, 2]].values\n"
      ],
      "execution_count": 0,
      "outputs": []
    },
    {
      "cell_type": "code",
      "metadata": {
        "id": "_I6kW1AEr9V6",
        "colab_type": "code",
        "colab": {
          "base_uri": "https://localhost:8080/",
          "height": 279
        },
        "outputId": "b0730e83-2cf2-4300-fe55-83360d670eb8"
      },
      "source": [
        "plt.scatter(X[:50, 0], X[:50, 1], color='red', marker='o', label='setosa')\n",
        "plt.scatter(X[50:100, 0], X[50:100, 1], color='blue', marker='x', label='versicolor')\n",
        "\n",
        "plt.xlabel('sepal length [cm]')\n",
        "plt.ylabel('petal length [cm]')\n",
        "plt.legend(loc='upper left')\n",
        "plt.show()"
      ],
      "execution_count": 26,
      "outputs": [
        {
          "output_type": "display_data",
          "data": {
            "image/png": "[encoded data removed]",
            "text/plain": [
              "<Figure size 432x288 with 1 Axes>"
            ]
          },
          "metadata": {
            "tags": [],
            "needs_background": "light"
          }
        }
      ]
    },
    {
      "cell_type": "code",
      "metadata": {
        "id": "m8U6TfrTaTAp",
        "colab_type": "code",
        "colab": {}
      },
      "source": [
        "class perceptron(object):\n",
        "\n",
        "  def __init__(self, learning_rate = 0.01, iter=50, random_state = 1):\n",
        "    self.lr=learning_rate\n",
        "    self.iter=iter\n",
        "    self.random_state=random_state\n",
        "\n",
        "  def fit(self, X, y):\n",
        "    rgen = np.random.RandomState(self.random_state)\n",
        "    self.w = rgen.normal(loc=0.0, scale=0.01, size=X.shape[1]+1)\n",
        "    self.errors = []\n",
        "\n",
        "    for a in range(self.iter):\n",
        "      error = 0\n",
        "      for xi, yi in zip(X, y):\n",
        "        update = self.lr * (yi - self.predict(xi))\n",
        "        self.w[1:] = self.w[1:] + update * xi\n",
        "        self.w[0] = update\n",
        "        error += int(update != 0.0)\n",
        "      self.errors.append(error)\n",
        "  \n",
        "  def net_input(self, X):\n",
        "    return np.dot(X, self.w[1:]) + self.w[0]\n",
        "\n",
        "  def predict(self, X):\n",
        "    return np.where(self.net_input(X) >= 0.0, 1, -1)\n"
      ],
      "execution_count": 0,
      "outputs": []
    },
    {
      "cell_type": "code",
      "metadata": {
        "id": "l9ASSoFMedT7",
        "colab_type": "code",
        "colab": {
          "base_uri": "https://localhost:8080/",
          "height": 279
        },
        "outputId": "660f3b6c-ee38-45c3-8a70-198a27a9a8d4"
      },
      "source": [
        "model = perceptron(learning_rate=0.1, iter=10)\n",
        "model.fit(X, y)\n",
        "plt.plot(range(1, len(model.errors)+1),\n",
        "         model.errors, marker='o')\n",
        "plt.xlabel('Epochs')\n",
        "plt.ylabel('Error')\n",
        "plt.show()"
      ],
      "execution_count": 28,
      "outputs": [
        {
          "output_type": "display_data",
          "data": {
            "image/png": "[encoded data removed]",
            "text/plain": [
              "<Figure size 432x288 with 1 Axes>"
            ]
          },
          "metadata": {
            "tags": [],
            "needs_background": "light"
          }
        }
      ]
    },
    {
      "cell_type": "code",
      "metadata": {
        "id": "0ePq-1y8tfJ9",
        "colab_type": "code",
        "colab": {
          "base_uri": "https://localhost:8080/",
          "height": 280
        },
        "outputId": "60436f25-e1f3-470b-f1fd-707d62cb4850"
      },
      "source": [
        "from matplotlib.colors import ListedColormap\n",
        "\n",
        "def plot_decision_regions(X, y, classifier, resolution=0.02):\n",
        "  markers=('s', 'x', 'o', '^', 'v')\n",
        "  colors=('red', 'blue', 'lightgreen', 'gray', 'cyan')\n",
        "  cmap = ListedColormap(colors[:len(np.unique(y))]) # np.unique: find unique elements in numpy array\n",
        "\n",
        "  x1_min, x1_max = X[:, 0].min() - 1, X[:, 0].max() + 1\n",
        "  x2_min, x2_max = X[:, 1].min() - 1, X[:, 1].max() + 1\n",
        "\n",
        "  xx1, xx2 = np.meshgrid(np.arange(x1_min, x1_max, resolution),\n",
        "                         np.arange(x2_min, x2_max, resolution))\n",
        "  Z = classifier.predict(np.array([xx1.ravel(), xx2.ravel()]).T)\n",
        "  Z = Z.reshape(xx1.shape)\n",
        "  plt.contourf(xx1, xx2, Z, alpha=0.3, cmap=cmap)\n",
        "  plt.xlim(xx1.min(), xx1.max())\n",
        "  plt.ylim(xx2.min(), xx2.max())\n",
        "\n",
        "  for idx, cl in enumerate(np.unique(y)):\n",
        "    plt.scatter(x=X[y == cl, 0],\n",
        "                y=X[y == cl, 1],\n",
        "                alpha=0.8,\n",
        "                c=colors[idx],\n",
        "                marker=markers[idx],\n",
        "                label=cl,\n",
        "                edgecolor='black')\n",
        "    \n",
        "plot_decision_regions(X, y, classifier=model)\n",
        "plt.xlabel('sepal length [cm]')\n",
        "plt.ylabel('petal length [cm]')\n",
        "plt.legend(loc='upper left')\n",
        "plt.show()"
      ],
      "execution_count": 29,
      "outputs": [
        {
          "output_type": "display_data",
          "data": {
            "image/png": "[encoded data removed]",
            "text/plain": [
              "<Figure size 432x288 with 1 Axes>"
            ]
          },
          "metadata": {
            "tags": [],
            "needs_background": "light"
          }
        }
      ]
    },
    {
      "cell_type": "code",
      "metadata": {
        "id": "rhDtefx-vZVS",
        "colab_type": "code",
        "colab": {}
      },
      "source": [
        ""
      ],
      "execution_count": 0,
      "outputs": []
    }
  ]
}