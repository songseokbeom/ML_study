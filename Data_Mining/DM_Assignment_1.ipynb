{
  "nbformat": 4,
  "nbformat_minor": 0,
  "metadata": {
    "kernelspec": {
      "display_name": "Python 3",
      "language": "python",
      "name": "python3"
    },
    "language_info": {
      "codemirror_mode": {
        "name": "ipython",
        "version": 3
      },
      "file_extension": ".py",
      "mimetype": "text/x-python",
      "name": "python",
      "nbconvert_exporter": "python",
      "pygments_lexer": "ipython3",
      "version": "3.7.6"
    },
    "colab": {
      "name": "DM_HW1_20141537 (1).ipynb",
      "provenance": [],
      "include_colab_link": true
    }
  },
  "cells": [
    {
      "cell_type": "markdown",
      "metadata": {
        "id": "view-in-github",
        "colab_type": "text"
      },
      "source": [
        "<a href=\"https://colab.research.google.com/github/songseokbeom/ML_study/blob/master/Data_Mining/DM_Assignment_1.ipynb\" target=\"_parent\"><img src=\"https://colab.research.google.com/assets/colab-badge.svg\" alt=\"Open In Colab\"/></a>"
      ]
    },
    {
      "cell_type": "code",
      "metadata": {
        "id": "5zb3cac5wHMw",
        "colab_type": "code",
        "colab": {}
      },
      "source": [
        "import numpy as np"
      ],
      "execution_count": 0,
      "outputs": []
    },
    {
      "cell_type": "markdown",
      "metadata": {
        "id": "EuC-7D_BwHM0",
        "colab_type": "text"
      },
      "source": [
        "# #Problem 1 (10 pts)\n",
        "'Hello, world!' 문장을 출력하는 cell을 작성하시오."
      ]
    },
    {
      "cell_type": "code",
      "metadata": {
        "id": "gUFeIKHSwHM1",
        "colab_type": "code",
        "colab": {},
        "outputId": "948c89c9-c8bc-4288-fb90-5027bf2a7e6e"
      },
      "source": [
        "### Put your code here ##########\n",
        "print('Hello, world!')\n",
        "#################################"
      ],
      "execution_count": 0,
      "outputs": [
        {
          "output_type": "stream",
          "text": [
            "Hello, world!\n"
          ],
          "name": "stdout"
        }
      ]
    },
    {
      "cell_type": "markdown",
      "metadata": {
        "id": "R1p8uxYswHM4",
        "colab_type": "text"
      },
      "source": [
        "# #Problem 2 (10 pts)\n",
        "P2_list의 원소 1과 2 사이에 string 'abc'를 추가하시오."
      ]
    },
    {
      "cell_type": "code",
      "metadata": {
        "id": "X8Ri4Al5wHM5",
        "colab_type": "code",
        "colab": {},
        "outputId": "23a63f4e-0909-46b8-8dc3-329755ddb2a7"
      },
      "source": [
        "P2_list = [1, 2, 3, 4, 5]\n",
        "\n",
        "### Put your code here ##########\n",
        "P2_list.insert(1, 'abc')\n",
        "#################################\n",
        "\n",
        "print(P2_list)"
      ],
      "execution_count": 0,
      "outputs": [
        {
          "output_type": "stream",
          "text": [
            "[1, 'abc', 2, 3, 4, 5]\n"
          ],
          "name": "stdout"
        }
      ]
    },
    {
      "cell_type": "markdown",
      "metadata": {
        "id": "JKpTXuSuwHM8",
        "colab_type": "text"
      },
      "source": [
        "# #Problem 3 (10 pts)\n",
        "list [1, 2, 3]과 list [4, 5, 6]을 합쳐 [1, 2, 3, 4, 5, 6] list를 만드시오."
      ]
    },
    {
      "cell_type": "code",
      "metadata": {
        "id": "XqGuy44JwHM8",
        "colab_type": "code",
        "colab": {},
        "outputId": "ce21bd2f-fd13-4d82-e1a9-720a869d7e46"
      },
      "source": [
        "P3_list_1 = [1, 2, 3]\n",
        "P3_list_2 = [4, 5, 6]\n",
        "P3_list_concat = None\n",
        "\n",
        "### Put your code here ##########\n",
        "P3_list_concat = P3_list_1 + P3_list_2\n",
        "#################################\n",
        "\n",
        "print(P3_list_concat)"
      ],
      "execution_count": 0,
      "outputs": [
        {
          "output_type": "stream",
          "text": [
            "[1, 2, 3, 4, 5, 6]\n"
          ],
          "name": "stdout"
        }
      ]
    },
    {
      "cell_type": "markdown",
      "metadata": {
        "id": "LToObjKbwHM_",
        "colab_type": "text"
      },
      "source": [
        "# #Problem 4 (10 pts)\n",
        "2차원 numpy array에서 첫번째 column에 있는 값들을 1차원 numpy array 형태로 P4 변수에 저장하시오. (for문 사용 금지)"
      ]
    },
    {
      "cell_type": "code",
      "metadata": {
        "id": "8whx9zD7wHM_",
        "colab_type": "code",
        "colab": {},
        "outputId": "20ca4022-9b3d-4183-e439-5383631945b7"
      },
      "source": [
        "import numpy as np\n",
        "P4_array = np.array([[1,2,3],\n",
        "                     [4,5,6],\n",
        "                     [7,8,9]])\n",
        "P4 = None\n",
        "\n",
        "### Put your code here ##########\n",
        "P4 = P4_array[:, 0]\n",
        "#################################\n",
        "\n",
        "print(P4)"
      ],
      "execution_count": 0,
      "outputs": [
        {
          "output_type": "stream",
          "text": [
            "[1 4 7]\n"
          ],
          "name": "stdout"
        }
      ]
    },
    {
      "cell_type": "markdown",
      "metadata": {
        "id": "eGrP4U6twHND",
        "colab_type": "text"
      },
      "source": [
        "# #Problem 5 (30 pts)\n",
        "원소가 3개인 벡터가 두개 이상 담겨있는 numpy array를 input으로 받아, target 벡터 [1, 2, 3]과의 L2 distance가 큰 순서대로 벡터들을 내림차순 정렬하여 출력해주는 함수를 작성하시오.\n",
        "- for문 사용 금지\n",
        "- ex) input : [[1,2,3],[2,5,10],[2,4,3],[1,2,4]], output : [[2,5,10],[2,4,3],[1,2,4],[1,2,3]]\n",
        "- numpy의 broadcasting, shape, axis 개념, numpy의 다양한 연산 메소드들을 구글에 충분히 검색해볼 것."
      ]
    },
    {
      "cell_type": "code",
      "metadata": {
        "scrolled": false,
        "id": "_CLKDiurwHNE",
        "colab_type": "code",
        "colab": {},
        "outputId": "42ccc6be-77b3-4f23-edac-e359a0b510a9"
      },
      "source": [
        "def Problem_5(input_arr):\n",
        "    target_vector = np.array([1, 2, 3])\n",
        "    sorted_arr = None\n",
        "    \n",
        "    ### Put your code here ##########\n",
        "    sorted_arr = np.subtract(input_arr, target_vector)\n",
        "    sorted_arr = np.sum(sorted_arr**2, axis=1)\n",
        "    sorted_arr = input_arr[np.argsort(sorted_arr)[::-1]]\n",
        "    #################################\n",
        "    \n",
        "    return sorted_arr\n",
        "\n",
        "test_arr = np.array([[1,2,3],\n",
        "                     [2,5,10],\n",
        "                     [2,4,3],\n",
        "                     [1,2,4]])\n",
        "print(Problem_5(test_arr))"
      ],
      "execution_count": 0,
      "outputs": [
        {
          "output_type": "stream",
          "text": [
            "[[ 2  5 10]\n",
            " [ 2  4  3]\n",
            " [ 1  2  4]\n",
            " [ 1  2  3]]\n"
          ],
          "name": "stdout"
        }
      ]
    },
    {
      "cell_type": "markdown",
      "metadata": {
        "id": "WTehpG11wHNI",
        "colab_type": "text"
      },
      "source": [
        "# #Problem 6 (30 pts)\n",
        "2차원 input array와 index array를 입력으로 받아, i번째 원소가 input array의 (i, index_array[i])번째 값인 1차원 numpy array를 출력하는 함수를 작성하시오.\n",
        "- for문 사용 금지\n",
        "- ex) input : [[1,2,3],[2,5,10],[2,4,3],[1,2,4]], [0,1,1,2], output : [1,5,4,4]"
      ]
    },
    {
      "cell_type": "code",
      "metadata": {
        "id": "noH4R-nUwHNI",
        "colab_type": "code",
        "colab": {},
        "outputId": "9cb14de8-7a20-4a02-8b6d-64d0bf2701b9"
      },
      "source": [
        "def Problem_6(input_arr, index_arr):\n",
        "    output_arr = None\n",
        "    \n",
        "    ### Put your code here ##########\n",
        "    a = index_arr.shape[0]\n",
        "    output_arr = input_arr[np.arange(a), index_arr]\n",
        "    #################################\n",
        "    \n",
        "    return output_arr\n",
        "\n",
        "test_arr = np.array([[1,2,3],\n",
        "                     [2,5,10],\n",
        "                     [2,4,3],\n",
        "                     [1,2,4]])\n",
        "test_index = np.array([0,1,1,2])\n",
        "print(Problem_6(test_arr, test_index))"
      ],
      "execution_count": 0,
      "outputs": [
        {
          "output_type": "stream",
          "text": [
            "[1 5 4 4]\n"
          ],
          "name": "stdout"
        }
      ]
    },
    {
      "cell_type": "code",
      "metadata": {
        "id": "OtXZZpnwwHNL",
        "colab_type": "code",
        "colab": {}
      },
      "source": [
        ""
      ],
      "execution_count": 0,
      "outputs": []
    }
  ]
}