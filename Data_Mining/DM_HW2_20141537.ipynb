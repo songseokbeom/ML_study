{
  "nbformat": 4,
  "nbformat_minor": 0,
  "metadata": {
    "colab": {
      "name": "DM_Assignment_2.ipynb",
      "provenance": [],
      "collapsed_sections": [],
      "machine_shape": "hm",
      "include_colab_link": true
    },
    "kernelspec": {
      "display_name": "Python 3",
      "language": "python",
      "name": "python3"
    },
    "language_info": {
      "codemirror_mode": {
        "name": "ipython",
        "version": 3
      },
      "file_extension": ".py",
      "mimetype": "text/x-python",
      "name": "python",
      "nbconvert_exporter": "python",
      "pygments_lexer": "ipython3",
      "version": "3.7.6"
    }
  },
  "cells": [
    {
      "cell_type": "markdown",
      "metadata": {
        "id": "view-in-github",
        "colab_type": "text"
      },
      "source": [
        "<a href=\"https://colab.research.google.com/github/songseokbeom/ML_study/blob/master/Data_Mining/DM_Assignment_2.ipynb\" target=\"_parent\"><img src=\"https://colab.research.google.com/assets/colab-badge.svg\" alt=\"Open In Colab\"/></a>"
      ]
    },
    {
      "cell_type": "markdown",
      "metadata": {
        "colab_type": "text",
        "id": "WIheD9M_4m9C"
      },
      "source": [
        "# k-Nearest Neighbor (kNN) assignment"
      ]
    },
    {
      "cell_type": "code",
      "metadata": {
        "colab_type": "code",
        "id": "EnRYN_XY4m9F",
        "colab": {}
      },
      "source": [
        "import numpy as np\n",
        "import matplotlib.pyplot as plt"
      ],
      "execution_count": 0,
      "outputs": []
    },
    {
      "cell_type": "markdown",
      "metadata": {
        "colab_type": "text",
        "id": "tZ1PUv_34m9J"
      },
      "source": [
        "# Mnist dataset 불러오기"
      ]
    },
    {
      "cell_type": "code",
      "metadata": {
        "colab_type": "code",
        "id": "ix_DV5L74m9K",
        "outputId": "52956869-9670-42b2-b247-bd4ef5cd2044",
        "colab": {
          "base_uri": "https://localhost:8080/",
          "height": 89
        }
      },
      "source": [
        "from sklearn.datasets import fetch_openml\n",
        "\n",
        "# load mnist data\n",
        "mnist_data = fetch_openml('mnist_784')\n",
        "X_data = mnist_data.data\n",
        "Y_data = mnist_data.target.astype('int32')\n",
        "# shuffling data\n",
        "shuffle_mask = np.arange(X_data.shape[0])\n",
        "np.random.shuffle(shuffle_mask)\n",
        "X_data = X_data[shuffle_mask]\n",
        "Y_data = Y_data[shuffle_mask]\n",
        "# divide data : train, test data\n",
        "X_train = X_data[:10000]\n",
        "X_test = X_data[10000:11000]\n",
        "Y_train = Y_data[:10000]\n",
        "Y_test = Y_data[10000:11000]\n",
        "print(X_train.shape)\n",
        "print(X_test.shape)\n",
        "print(Y_train.shape)\n",
        "print(Y_test.shape)"
      ],
      "execution_count": 0,
      "outputs": [
        {
          "output_type": "stream",
          "text": [
            "(10000, 784)\n",
            "(1000, 784)\n",
            "(10000,)\n",
            "(1000,)\n"
          ],
          "name": "stdout"
        }
      ]
    },
    {
      "cell_type": "markdown",
      "metadata": {
        "colab_type": "text",
        "id": "zwG6jL9P4m9N"
      },
      "source": [
        "# Mnist 이미지 출력"
      ]
    },
    {
      "cell_type": "code",
      "metadata": {
        "colab_type": "code",
        "id": "0Snot0_C4m9O",
        "outputId": "cd6ad590-d824-4da6-aa78-d23f925e6423",
        "colab": {
          "base_uri": "https://localhost:8080/",
          "height": 338
        }
      },
      "source": [
        "sample_X = X_train[:20]\n",
        "sample_Y = Y_train[:20]\n",
        "\n",
        "fig = plt.figure()\n",
        "fig.subplots_adjust(left=0, bottom=0, right=1, top=1, wspace=1, hspace=1)\n",
        "for i in range(20):\n",
        "    subplot = fig.add_subplot(4, 5, i+1)\n",
        "    subplot.set_xticks([])\n",
        "    subplot.set_yticks([])\n",
        "    subplot.set_title('%d'%sample_Y[i])\n",
        "    subplot.imshow(sample_X[i].reshape(28,28), cmap=plt.cm.gray_r)\n",
        "plt.show()"
      ],
      "execution_count": 0,
      "outputs": [
        {
          "output_type": "display_data",
          "data": {
            "image/png": "[encoded data removed]",
            "text/plain": [
              "<Figure size 432x288 with 20 Axes>"
            ]
          },
          "metadata": {
            "tags": []
          }
        }
      ]
    },
    {
      "cell_type": "markdown",
      "metadata": {
        "colab_type": "text",
        "id": "0Z55sw514m9R"
      },
      "source": [
        "# # Problem 1 (10 pts)\n",
        "Test data(X_test)와 training data(X_train) 사이의 거리를 ***for loop를 두번 사용하여*** distance matrix(dist_mat)에 저장한 후 dist_mat을 return 하는 함수를 작성하시오.\n",
        "- distance matrix(dist_mat) : numpy array of shape (test data 수, train data 수). (dist_mat[i,j] : i번째 test data와 j번째 train data 사이의 거리)\n",
        "- 거리는 L2 distance로 구할 것."
      ]
    },
    {
      "cell_type": "code",
      "metadata": {
        "colab_type": "code",
        "id": "V8tnoKKO4m9S",
        "outputId": "9de84c5e-af9f-4d80-ccb8-f83070d6f4c5",
        "colab": {
          "base_uri": "https://localhost:8080/",
          "height": 251
        }
      },
      "source": [
        "def Problem_1(X_test, X_train):\n",
        "    test_num = X_test.shape[0]\n",
        "    train_num = X_train.shape[0]\n",
        "    dist_mat = np.zeros((test_num, train_num))\n",
        "    \n",
        "    for i in range(test_num):\n",
        "        for j in range(train_num):\n",
        "            ############# Put your code here ################\n",
        "            dist_mat[i][j] = np.sqrt(np.sum((X_test[i] - X_train[j])**2))\n",
        "            #################################################\n",
        "    return dist_mat\n",
        "print(Problem_1(X_test, X_train))"
      ],
      "execution_count": 0,
      "outputs": [
        {
          "output_type": "stream",
          "text": [
            "[[2393.88136715 2207.57355483 2435.8557018  ... 2417.08398696\n",
            "  2543.60197358 2890.5082598 ]\n",
            " [1919.93619686 1650.56293427 2591.81943816 ... 2176.89411777\n",
            "  2477.25977645 2887.47796528]\n",
            " [2644.55345947 2812.19522793 2769.34902098 ... 2880.72039601\n",
            "  2897.27803291 2782.21728123]\n",
            " ...\n",
            " [2012.48527945 2138.69679946 2366.12425709 ... 2296.02264797\n",
            "  2268.4228001  2701.74702739]\n",
            " [2643.14244792 3122.5465569  3028.8121434  ... 2968.18513574\n",
            "  2921.40907783 3181.00267211]\n",
            " [1768.32887213 2074.64069178 2614.6663267  ... 2153.72421633\n",
            "  2218.47695503 2895.61098907]]\n"
          ],
          "name": "stdout"
        }
      ]
    },
    {
      "cell_type": "markdown",
      "metadata": {
        "colab_type": "text",
        "id": "LXIqaxmv4m9V"
      },
      "source": [
        "# # Problem 2 (20 pts)\n",
        "Test data(X_test)와 training data(X_train) 사이의 거리를 ***for loop를 사용하지 않고 numpy 연산만을 이용하여*** distance matrix(dist_mat)에 저장한 후 dist_mat을 return 하는 함수를 작성하시오.\n",
        "- L2 distance로 거리를 구할 것."
      ]
    },
    {
      "cell_type": "code",
      "metadata": {
        "colab_type": "code",
        "id": "sL4K1YTU4m9W",
        "outputId": "136f22a3-f004-489b-9ea0-0863bab3a81b",
        "colab": {
          "base_uri": "https://localhost:8080/",
          "height": 251
        }
      },
      "source": [
        "def Problem_2(X_test, X_train):\n",
        "    test_num = X_test.shape[0]\n",
        "    train_num = X_train.shape[0]\n",
        "    dist_mat = np.zeros((test_num, train_num))\n",
        "    ############# Put your code here ################\n",
        "    test_sum = np.sum(X_test**2, axis=1)\n",
        "    train_sum = np.sum(X_train**2, axis=1)\n",
        "    dist_mat = np.sqrt((test_sum[:, np.newaxis] + train_sum) - 2*np.matmul(X_test, X_train.T))\n",
        "    #################################################        \n",
        "    return dist_mat\n",
        "print(Problem_2(X_test, X_train))"
      ],
      "execution_count": 0,
      "outputs": [
        {
          "output_type": "stream",
          "text": [
            "[[2393.88136715 2207.57355483 2435.8557018  ... 2417.08398696\n",
            "  2543.60197358 2890.5082598 ]\n",
            " [1919.93619686 1650.56293427 2591.81943816 ... 2176.89411777\n",
            "  2477.25977645 2887.47796528]\n",
            " [2644.55345947 2812.19522793 2769.34902098 ... 2880.72039601\n",
            "  2897.27803291 2782.21728123]\n",
            " ...\n",
            " [2012.48527945 2138.69679946 2366.12425709 ... 2296.02264797\n",
            "  2268.4228001  2701.74702739]\n",
            " [2643.14244792 3122.5465569  3028.8121434  ... 2968.18513574\n",
            "  2921.40907783 3181.00267211]\n",
            " [1768.32887213 2074.64069178 2614.6663267  ... 2153.72421633\n",
            "  2218.47695503 2895.61098907]]\n"
          ],
          "name": "stdout"
        }
      ]
    },
    {
      "cell_type": "markdown",
      "metadata": {
        "colab_type": "text",
        "id": "j7VvPBJf4m9Z"
      },
      "source": [
        "# # Problem 3 (10 pts)\n",
        "time 라이브러리를 이용하여 Problem_1, Problem_2 함수의 실행시간(초)을 측정한 후 비교하고, 두 함수에서 계산된 distance matrix가 같은 matrix임을 보이시오."
      ]
    },
    {
      "cell_type": "code",
      "metadata": {
        "colab_type": "code",
        "id": "0fqcVciT4m9a",
        "outputId": "78a666c0-c839-41ad-f31c-7015ce01c294",
        "colab": {
          "base_uri": "https://localhost:8080/",
          "height": 71
        }
      },
      "source": [
        "import time\n",
        "\n",
        "dist_mat_two_loop = None\n",
        "dist_mat_no_loop = None\n",
        "problem1_time = None\n",
        "problem2_time = None\n",
        "\n",
        "############# Put your code here ################\n",
        "start = time.time()\n",
        "dist_mat_two_loop = Problem_1(X_test, X_train)\n",
        "problem1_time = time.time() - start\n",
        "\n",
        "start = time.time()\n",
        "dist_mat_no_loop = Problem_2(X_test, X_train)\n",
        "problem2_time = time.time() - start\n",
        "#################################################   \n",
        "\n",
        "\n",
        "print('Problem1 (two for loop) execution time : %f'%problem1_time)\n",
        "print('Problem2 (no for loop) execution time : %f'%problem2_time)\n",
        "\n",
        "difference = np.linalg.norm(dist_mat_two_loop - dist_mat_no_loop, ord='fro')\n",
        "if difference < 0.001:\n",
        "    print('The distance matrices are the same')\n",
        "else:\n",
        "    print('The distance matrices are different')"
      ],
      "execution_count": 0,
      "outputs": [
        {
          "output_type": "stream",
          "text": [
            "Problem1 (two for loop) execution time : 103.408694\n",
            "Problem2 (no for loop) execution time : 0.323532\n",
            "The distance matrices are the same\n"
          ],
          "name": "stdout"
        }
      ]
    },
    {
      "cell_type": "markdown",
      "metadata": {
        "colab_type": "text",
        "id": "Hpprsf1t4m9c"
      },
      "source": [
        "# # Problem 4 (10 pts)\n",
        "KNN 알고리즘으로 test 데이터의 label 값을 예측하여 return 해주는 함수를 만들고, 실제 label 값과 비교하여 예측의 정확도를 구하시오.\n",
        "- 위에서 구한 distance matrix를 이용.\n",
        "- k = 3"
      ]
    },
    {
      "cell_type": "code",
      "metadata": {
        "colab_type": "code",
        "id": "yFYFFQjZ4m9d",
        "outputId": "7380e959-6209-4bb2-d197-6351e8559fac",
        "colab": {
          "base_uri": "https://localhost:8080/",
          "height": 35
        }
      },
      "source": [
        "def Problem_4(dist_mat, k, Y_train):\n",
        "    test_num = dist_mat.shape[0]\n",
        "    Y_predict = np.zeros(test_num)\n",
        "    for i in range(test_num):\n",
        "        ############# Put your code here ################\n",
        "        cnt = np.zeros((1, 10))\n",
        "        temp = np.argsort(dist_mat[i, :])\n",
        "        for j in range(0, k):\n",
        "            idx = Y_train[temp[j]]\n",
        "            cnt[0][idx] = cnt[0][idx]+1\n",
        "        cnt = cnt.argsort()\n",
        "        Y_predict[i] = cnt[0][9]\n",
        "        #################################################   \n",
        "    return Y_predict\n",
        "\n",
        "y_pred = Problem_4(dist_mat_no_loop, 3, Y_train)\n",
        "accuracy = 0\n",
        "############# Put your code here ################\n",
        "ret = y_pred - Y_test\n",
        "ret = np.sum(np.where(ret==0, 1, 0))\n",
        "accuracy = ret\n",
        "accuracy = (accuracy / Y_test.shape[0])\n",
        "#################################################\n",
        "print('Test data prediction accuracy : %f'%accuracy)"
      ],
      "execution_count": 0,
      "outputs": [
        {
          "output_type": "stream",
          "text": [
            "Test data prediction accuracy : 0.947000\n"
          ],
          "name": "stdout"
        }
      ]
    },
    {
      "cell_type": "markdown",
      "metadata": {
        "colab_type": "text",
        "id": "Oe6kyuGu4m9g"
      },
      "source": [
        "# # Problem 5 (20 pts)\n",
        "training 데이터를 split 하여, 5 fold cross validation을 수행하고 최적의 hyper parameter K 를 찾으시오. 또한, cross validation 기법을 사용하는 이유를 조사한 후 간단히 서술하시오.\n",
        "- numpy 외 다른 라이브러리 사용 금지.\n",
        "- 위에서 정의한 함수들 이용.\n",
        "- k_candidate list에 hyper parameter k 후보들을 저장. ex) k_candidate = [3, 5, 7, 10, 15]\n",
        "- accuracy_dict[x]에 k = x 일때 5개의 validation accuracy 저장. ex) print(accuracy_dict[3]) -> [70.01, 68.93, 54.412, 65.643, 68.85]\n",
        "- https://www.youtube.com/watch?v=OoUX-nOEjG0&list=PLC1qU-LWwrF64f4QKQT-Vg5Wr4qEE1Zxk&index=2 28분30초~39분30초 참고."
      ]
    },
    {
      "cell_type": "markdown",
      "metadata": {
        "colab_type": "text",
        "id": "QrpKxquw4m9h"
      },
      "source": [
        "cross validation 사용 이유 : 데이터의 수가 적은 경우 train, validation, test set으로 분할 경우 train set의 수가 적어서 underfitting된 모델이 발생할 수 있습니다. 따라서 train set을 k개의 fold로 나눈 다음 각 fold를 validation set으로 사용하여 모델의 parameter를 개선하면 평가에 사용되는 데이터의 편중을 막을 수 있고 보다 더 많은 데이터를 학습에 사용할 수 있습니다. 뿐만 아니라 각 fold에서의 에러율을 비교하여 좀 더 정확하고 일반화된 모델을 찾을 수 있습니다."
      ]
    },
    {
      "cell_type": "code",
      "metadata": {
        "colab_type": "code",
        "id": "ptWHqLpW4m9h",
        "outputId": "d7a4e55a-6004-4699-8ee9-ee2a3c59c6a3",
        "colab": {
          "base_uri": "https://localhost:8080/",
          "height": 295
        }
      },
      "source": [
        "num_fold = 5\n",
        "k_candidate = [1, 3, 5, 7, 10]\n",
        "accuracy_dict = {}\n",
        "X_train_folds = []\n",
        "Y_train_folds = []\n",
        "for k in k_candidate:\n",
        "    accuracy_dict[k] = []\n",
        "\n",
        "############# Put your code here ################\n",
        "sp = int(X_train.shape[0]/5)\n",
        "#################################################\n",
        "for i in range(num_fold):\n",
        "    ############# Put your code here ################\n",
        "    X_train_folds = np.zeros((0, X_train.shape[1]))\n",
        "    Y_train_folds = np.zeros((8000), dtype=int)\n",
        "    X_test_folds = X_train[i*sp:(i+1)*sp]\n",
        "    Y_test_folds = Y_train[i*sp:(i+1)*sp]\n",
        "    a=0\n",
        "    for j in range(0, 5):\n",
        "        if i==j:\n",
        "            continue\n",
        "        X_train_folds = np.vstack([X_train_folds, X_train[(j*sp):(j+1)*sp]])\n",
        "        Y_train_folds[a*sp:(a+1)*sp] = Y_train[j*sp:(j+1)*sp]\n",
        "        a=a+1\n",
        "    #################################################\n",
        "    for k in k_candidate:\n",
        "        ############# Put your code here ################\n",
        "        dist = Problem_2(X_test_folds, X_train_folds) # distance\n",
        "        temp = Problem_4(dist, k, Y_train_folds) # pred_y return func\n",
        "        ret = Y_test_folds - temp\n",
        "        T = np.sum(np.where(ret==0, 1, 0))\n",
        "        accuracy_dict[k].append(T/Y_test_folds.shape[0])\n",
        "        #################################################   \n",
        "      \n",
        "for k in k_candidate:\n",
        "    accuracies = accuracy_dict[k]\n",
        "    plt.scatter([k] * len(accuracies), accuracies)\n",
        "    \n",
        "accuracies_mean = np.array([np.mean(v) for k,v in sorted(accuracy_dict.items())])\n",
        "accuracies_std = np.array([np.std(v) for k,v in sorted(accuracy_dict.items())])\n",
        "plt.errorbar(k_candidate, accuracies_mean, yerr=accuracies_std)\n",
        "plt.title('Cross-validation on k')\n",
        "plt.xlabel('k')\n",
        "plt.ylabel('Cross-validation accuracy')\n",
        "plt.show()"
      ],
      "execution_count": 0,
      "outputs": [
        {
          "output_type": "display_data",
          "data": {
            "image/png": "[encoded data removed]",
            "text/plain": [
              "<Figure size 432x288 with 1 Axes>"
            ]
          },
          "metadata": {
            "tags": []
          }
        }
      ]
    },
    {
      "cell_type": "markdown",
      "metadata": {
        "colab_type": "text",
        "id": "6gje4jDv4m9l"
      },
      "source": [
        "# #Problem 6 (10 pts)\n",
        "Problem5 에서 구한 best hyperparameter k와 Problem4에서 작성한 함수를 이용하여 test 데이터의 label 값을 예측하고, 정확도를 구하시오."
      ]
    },
    {
      "cell_type": "code",
      "metadata": {
        "colab_type": "code",
        "id": "XtEMFmI24m9m",
        "outputId": "af21aa9a-5c15-427b-cc2c-449605b92e75",
        "colab": {
          "base_uri": "https://localhost:8080/",
          "height": 35
        }
      },
      "source": [
        "best_k = 7##### Your best k ##########\n",
        "\n",
        "y_pred = Problem_4(dist_mat_no_loop, best_k, Y_train)\n",
        "accuracy = None\n",
        "############# Put your code here ################\n",
        "temp = y_pred - Y_test\n",
        "ret = np.sum(np.where(temp==0, 1, 0))\n",
        "accuracy = ret / Y_test.shape[0]\n",
        "#################################################   \n",
        "print('Test data prediction accuracy : %f'%accuracy)"
      ],
      "execution_count": 0,
      "outputs": [
        {
          "output_type": "stream",
          "text": [
            "Test data prediction accuracy : 0.944000\n"
          ],
          "name": "stdout"
        }
      ]
    },
    {
      "cell_type": "markdown",
      "metadata": {
        "colab_type": "text",
        "id": "-5W2S0R-4m9p"
      },
      "source": [
        "# #Problem 7 (20 pts)\n",
        "Problem5, Problem6의 과정을 Scikit-learn 라이브러리를 이용하여 수행하시오.\n",
        "- sklearn.neighbors.KNeighborsClassifier, sklearn.model_selection.cross_val_score 함수 사용법을 구글링 해볼 것."
      ]
    },
    {
      "cell_type": "code",
      "metadata": {
        "colab_type": "code",
        "id": "KM-tKC2O4m9p",
        "scrolled": true,
        "outputId": "f38cdaaf-35cc-43a8-845f-338cf98a5a0c",
        "colab": {
          "base_uri": "https://localhost:8080/",
          "height": 385
        }
      },
      "source": [
        "from sklearn.neighbors import KNeighborsClassifier\n",
        "from sklearn.model_selection import cross_val_score, KFold\n",
        "\n",
        "k_candidate = [1, 3, 5, 7, 10]\n",
        "accuracy_dict = {}\n",
        "for k in k_candidate:\n",
        "    accuracy_dict[k] = []\n",
        "\n",
        "for k in k_candidate:\n",
        "    ############# Put your code here ################\n",
        "    neigh = KNeighborsClassifier(n_neighbors=k)\n",
        "    accuracy_dict[k] = cross_val_score(neigh, X_train, Y_train, cv=5)\n",
        "    #################################################   \n",
        "\n",
        "for k in k_candidate:\n",
        "    accuracies = accuracy_dict[k]\n",
        "    plt.scatter([k] * len(accuracies), accuracies)\n",
        "    \n",
        "accuracies_mean = np.array([np.mean(v) for k,v in sorted(accuracy_dict.items())])\n",
        "accuracies_std = np.array([np.std(v) for k,v in sorted(accuracy_dict.items())])\n",
        "plt.errorbar(k_candidate, accuracies_mean, yerr=accuracies_std)\n",
        "plt.title('Cross-validation on k')\n",
        "plt.xlabel('k')\n",
        "plt.ylabel('Cross-validation accuracy')\n",
        "plt.show()"
      ],
      "execution_count": 0,
      "outputs": [
        {
          "output_type": "stream",
          "text": [
            "[0.946  0.9515 0.9495 0.9455 0.942 ]\n",
            "[0.943  0.9475 0.941  0.953  0.9465]\n",
            "[0.94   0.9445 0.94   0.9505 0.9415]\n",
            "[0.9375 0.946  0.939  0.947  0.94  ]\n",
            "[0.9275 0.9395 0.9395 0.947  0.9345]\n"
          ],
          "name": "stdout"
        },
        {
          "output_type": "display_data",
          "data": {
            "image/png": "[encoded data removed]",
            "text/plain": [
              "<Figure size 432x288 with 1 Axes>"
            ]
          },
          "metadata": {
            "tags": []
          }
        }
      ]
    },
    {
      "cell_type": "code",
      "metadata": {
        "colab_type": "code",
        "id": "xRmKDCos4m9s",
        "outputId": "b796ad35-0e09-41d1-ae4d-82eefb4e920a",
        "colab": {
          "base_uri": "https://localhost:8080/",
          "height": 35
        }
      },
      "source": [
        "best_k = 3##### Your best k ##########\n",
        "\n",
        "y_pred = np.zeros((Y_test.shape[0], 1))\n",
        "accuracy = None\n",
        "############# Put your code here ################\n",
        "neigh = KNeighborsClassifier(n_neighbors=best_k)\n",
        "neigh.fit(X_train, Y_train)\n",
        "y_pred = neigh.predict(X_test)\n",
        "ret = Y_test - y_pred\n",
        "accuracy = np.sum(np.where(ret==0, 1, 0)) / Y_test.shape[0]\n",
        "#################################################   \n",
        "print('Test data prediction accuracy : %f'%accuracy)"
      ],
      "execution_count": 0,
      "outputs": [
        {
          "output_type": "stream",
          "text": [
            "Test data prediction accuracy : 0.946000\n"
          ],
          "name": "stdout"
        }
      ]
    },
    {
      "cell_type": "code",
      "metadata": {
        "id": "nbFCimVw9DfN",
        "colab_type": "code",
        "colab": {}
      },
      "source": [
        ""
      ],
      "execution_count": 0,
      "outputs": []
    }
  ]
}
