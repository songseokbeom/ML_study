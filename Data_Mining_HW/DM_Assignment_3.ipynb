{
  "nbformat": 4,
  "nbformat_minor": 0,
  "metadata": {
    "kernelspec": {
      "display_name": "Python 3",
      "language": "python",
      "name": "python3"
    },
    "language_info": {
      "codemirror_mode": {
        "name": "ipython",
        "version": 3
      },
      "file_extension": ".py",
      "mimetype": "text/x-python",
      "name": "python",
      "nbconvert_exporter": "python",
      "pygments_lexer": "ipython3",
      "version": "3.7.3"
    },
    "colab": {
      "name": "DM_Assignment_3.ipynb",
      "provenance": [],
      "include_colab_link": true
    }
  },
  "cells": [
    {
      "cell_type": "markdown",
      "metadata": {
        "id": "view-in-github",
        "colab_type": "text"
      },
      "source": [
        "<a href=\"https://colab.research.google.com/github/songseokbeom/ML_study/blob/master/DM_Assignment_3.ipynb\" target=\"_parent\"><img src=\"https://colab.research.google.com/assets/colab-badge.svg\" alt=\"Open In Colab\"/></a>"
      ]
    },
    {
      "cell_type": "code",
      "metadata": {
        "id": "Hzgrcukyjqqk",
        "colab_type": "code",
        "colab": {}
      },
      "source": [
        "import numpy as np\n",
        "import pandas as pd"
      ],
      "execution_count": 0,
      "outputs": []
    },
    {
      "cell_type": "markdown",
      "metadata": {
        "id": "bPpjI0eGjqqr",
        "colab_type": "text"
      },
      "source": [
        "# Wine dataset 불러오기"
      ]
    },
    {
      "cell_type": "code",
      "metadata": {
        "id": "WvFp5cIijqqr",
        "colab_type": "code",
        "colab": {
          "base_uri": "https://localhost:8080/",
          "height": 89
        },
        "outputId": "c60a840c-eb03-4306-8e2c-bed4fc082bef"
      },
      "source": [
        "from sklearn.datasets import load_wine\n",
        "from sklearn.model_selection import train_test_split\n",
        "\n",
        "wine = load_wine()\n",
        "X_train, X_test, Y_train, Y_test = train_test_split(wine.data, wine.target, random_state=777, test_size=0.2)\n",
        "print(X_train.shape)\n",
        "print(X_test.shape)\n",
        "print(Y_train.shape)\n",
        "print(Y_test.shape)"
      ],
      "execution_count": 13,
      "outputs": [
        {
          "output_type": "stream",
          "text": [
            "(142, 13)\n",
            "(36, 13)\n",
            "(142,)\n",
            "(36,)\n"
          ],
          "name": "stdout"
        }
      ]
    },
    {
      "cell_type": "markdown",
      "metadata": {
        "id": "P10LSPKEjqqw",
        "colab_type": "text"
      },
      "source": [
        "# Wine dataset (참고용)"
      ]
    },
    {
      "cell_type": "code",
      "metadata": {
        "scrolled": true,
        "id": "7UDEH9wyjqqw",
        "colab_type": "code",
        "colab": {}
      },
      "source": [
        "df = pd.DataFrame(wine.data, columns=wine.feature_names)\n",
        "sy = pd.Series(wine.target, dtype=\"category\")\n",
        "sy = sy.cat.rename_categories(wine.target_names)\n",
        "df['class'] = sy\n",
        "print(wine.DESCR)\n",
        "df.head()"
      ],
      "execution_count": 0,
      "outputs": []
    },
    {
      "cell_type": "markdown",
      "metadata": {
        "id": "IygpDF5Fjqqz",
        "colab_type": "text"
      },
      "source": [
        "# # Problem 1\n",
        "ID3 Decision Tree classifier.\n",
        "- decision-tree-id3 패키지를 pip install을 통해 설치하시오.\n",
        "- 위의 train 데이터(X_train, Y_train)를 이용하여 ID3 classifier 모델을 학습시키시오.\n",
        "- 위의 test 데이터(X_test, Y_test)를 이용해 정확도를 측정 후 출력하시오."
      ]
    },
    {
      "cell_type": "code",
      "metadata": {
        "id": "B-TjSFZIjqqz",
        "colab_type": "code",
        "colab": {
          "base_uri": "https://localhost:8080/",
          "height": 125
        },
        "outputId": "e16bfa1d-5be4-481e-afb0-f18712906ded"
      },
      "source": [
        "##########Put your installation code here###############\n",
        "!pip install decision-tree-id3\n",
        "########################################################"
      ],
      "execution_count": 14,
      "outputs": [
        {
          "output_type": "stream",
          "text": [
            "Requirement already satisfied: decision-tree-id3 in /usr/local/lib/python3.6/dist-packages (0.1.2)\n",
            "Requirement already satisfied: nose>=1.1.2 in /usr/local/lib/python3.6/dist-packages (from decision-tree-id3) (1.3.7)\n",
            "Requirement already satisfied: numpy>=1.6.1 in /usr/local/lib/python3.6/dist-packages (from decision-tree-id3) (1.18.2)\n",
            "Requirement already satisfied: scikit-learn>=0.17 in /usr/local/lib/python3.6/dist-packages (from decision-tree-id3) (0.22.2.post1)\n",
            "Requirement already satisfied: joblib>=0.11 in /usr/local/lib/python3.6/dist-packages (from scikit-learn>=0.17->decision-tree-id3) (0.14.1)\n",
            "Requirement already satisfied: scipy>=0.17.0 in /usr/local/lib/python3.6/dist-packages (from scikit-learn>=0.17->decision-tree-id3) (1.4.1)\n"
          ],
          "name": "stdout"
        }
      ]
    },
    {
      "cell_type": "code",
      "metadata": {
        "id": "80UaceOvjqq2",
        "colab_type": "code",
        "colab": {
          "base_uri": "https://localhost:8080/",
          "height": 35
        },
        "outputId": "e2afcf36-97bf-4d18-be8b-e91b7c371035"
      },
      "source": [
        "from id3 import Id3Estimator\n",
        "\n",
        "ID3_model = None\n",
        "accuracy = None\n",
        "############# Put your code here ################\n",
        "\n",
        "ID3_model = Id3Estimator()\n",
        "ID3_model.fit(X_train, Y_train)\n",
        "Y_hat = ID3_model.predict(X_test)\n",
        "accuracy = np.sum(np.where(Y_test - Y_hat==0, 1, 0))/X_test.shape[0]\n",
        "\n",
        "################################################# \n",
        "print('Test data prediction accuracy (ID3) : %f'%accuracy)"
      ],
      "execution_count": 17,
      "outputs": [
        {
          "output_type": "stream",
          "text": [
            "Test data prediction accuracy (ID3) : 0.944444\n"
          ],
          "name": "stdout"
        }
      ]
    },
    {
      "cell_type": "markdown",
      "metadata": {
        "id": "kdT_0Xyhjqq5",
        "colab_type": "text"
      },
      "source": [
        "# # Problem 2\n",
        "CART decision Tree classifier.\n",
        "- scikit-learn의 decision tree는 CART 기반 구현체이다.\n",
        "- Problem 1과 같은 방법으로 CART classifier 모델을 학습시키고 test데이터의 정확도를 출력하시오."
      ]
    },
    {
      "cell_type": "code",
      "metadata": {
        "id": "zxGqA_x9jqq6",
        "colab_type": "code",
        "colab": {
          "base_uri": "https://localhost:8080/",
          "height": 35
        },
        "outputId": "49bdf1bd-0d73-46a1-8fc8-b7f9f3766854"
      },
      "source": [
        "from sklearn.tree import DecisionTreeClassifier\n",
        "\n",
        "CART_model = None\n",
        "accuracy = None\n",
        "############# Put your code here ################\n",
        "CART_model = DecisionTreeClassifier()\n",
        "CART_model.fit(X_train, Y_train)\n",
        "Y_hat = CART_model.predict(X_test)\n",
        "accuracy = np.sum(np.where(Y_test - Y_hat==0, 1, 0)) / X_test.shape[0]           \n",
        "################################################# \n",
        "print('Test data prediction accuracy (CART) : %f'%accuracy)"
      ],
      "execution_count": 18,
      "outputs": [
        {
          "output_type": "stream",
          "text": [
            "Test data prediction accuracy (CART) : 0.972222\n"
          ],
          "name": "stdout"
        }
      ]
    },
    {
      "cell_type": "markdown",
      "metadata": {
        "id": "8WscZp2Sjqq8",
        "colab_type": "text"
      },
      "source": [
        "# # Problem 3\n",
        "Random Forest classifier.\n",
        "- scikit-learn의 random forest 패키지를 이용하여 모델을 학습시키고 test데이터의 정확도를 출력하시오."
      ]
    },
    {
      "cell_type": "code",
      "metadata": {
        "id": "ejzMuTQQjqq9",
        "colab_type": "code",
        "colab": {
          "base_uri": "https://localhost:8080/",
          "height": 35
        },
        "outputId": "9706d0e3-0772-4df3-eb16-75a268ffe9e2"
      },
      "source": [
        "from sklearn.ensemble import RandomForestClassifier\n",
        "\n",
        "Random_Forest_model = None\n",
        "accuracy = None\n",
        "############# Put your code here ################\n",
        "Random_Forest_model = RandomForestClassifier()\n",
        "Random_Forest_model.fit(X_train, Y_train)\n",
        "Y_hat = Random_Forest_model.predict(X_test)\n",
        "accuracy = np.sum(np.where(Y_hat - Y_test==0, 1, 0)) / X_test.shape[0]           \n",
        "################################################# \n",
        "print('Test data prediction accuracy (Random Forest) : %f'%accuracy)"
      ],
      "execution_count": 20,
      "outputs": [
        {
          "output_type": "stream",
          "text": [
            "Test data prediction accuracy (Random Forest) : 1.000000\n"
          ],
          "name": "stdout"
        }
      ]
    },
    {
      "cell_type": "markdown",
      "metadata": {
        "id": "3dv7mxAUjqq_",
        "colab_type": "text"
      },
      "source": [
        "# # Problem 4\n",
        "XGBoost classifier.\n",
        "- XGBoost 패키지를 pip install을 통해 설치하시오.\n",
        "- 패키지를 불러와 모델을 학습시키고 test데이터의 정확도를 출력하시오."
      ]
    },
    {
      "cell_type": "code",
      "metadata": {
        "id": "1YGGYH7SjqrA",
        "colab_type": "code",
        "colab": {
          "base_uri": "https://localhost:8080/",
          "height": 71
        },
        "outputId": "76b56503-5099-4a88-a033-1db9c6f8f2f9"
      },
      "source": [
        "##########Put your installation code here###############\n",
        "!pip install xgboost\n",
        "########################################################"
      ],
      "execution_count": 21,
      "outputs": [
        {
          "output_type": "stream",
          "text": [
            "Requirement already satisfied: xgboost in /usr/local/lib/python3.6/dist-packages (0.90)\n",
            "Requirement already satisfied: scipy in /usr/local/lib/python3.6/dist-packages (from xgboost) (1.4.1)\n",
            "Requirement already satisfied: numpy in /usr/local/lib/python3.6/dist-packages (from xgboost) (1.18.2)\n"
          ],
          "name": "stdout"
        }
      ]
    },
    {
      "cell_type": "code",
      "metadata": {
        "id": "_DcE-NwbjqrC",
        "colab_type": "code",
        "colab": {}
      },
      "source": [
        "import xgboost as xgb\n",
        "\n",
        "XGB_model = None\n",
        "accuracy = None\n",
        "############# Put your code here ################\n",
        "\n",
        "################################################# \n",
        "print('Test data prediction accuracy (XGBoost) : %f'%accuracy)"
      ],
      "execution_count": 0,
      "outputs": []
    },
    {
      "cell_type": "markdown",
      "metadata": {
        "id": "adc8A1pHjqrE",
        "colab_type": "text"
      },
      "source": [
        "# # Problem 5\n",
        "LightGBM classifier.\n",
        "- LighGBM 패키지를 pip install을 통해 설치하시오.\n",
        "- 패키지를 불러와 모델을 학습시키고 test데이터의 정확도를 출력하시오."
      ]
    },
    {
      "cell_type": "code",
      "metadata": {
        "id": "Rl6d9pLHjqrE",
        "colab_type": "code",
        "colab": {}
      },
      "source": [
        "##########Put your installation code here###############\n",
        "!\n",
        "########################################################"
      ],
      "execution_count": 0,
      "outputs": []
    },
    {
      "cell_type": "code",
      "metadata": {
        "id": "HXYjkUCNjqrI",
        "colab_type": "code",
        "colab": {}
      },
      "source": [
        "import lightgbm as lgb\n",
        "\n",
        "LGBM_model = None\n",
        "accuracy = None\n",
        "############# Put your code here ################\n",
        "           \n",
        "################################################# \n",
        "print('Test data prediction accuracy (LightGBM) : %f'%accuracy)"
      ],
      "execution_count": 0,
      "outputs": []
    },
    {
      "cell_type": "markdown",
      "metadata": {
        "id": "lCcuZU1RjqrK",
        "colab_type": "text"
      },
      "source": [
        "# # Problem 6\n",
        "Naive Bayes classifier.\n",
        "- Scikit-learn의 Gaussian Naive Bayes classifier를 불러와 학습시키고, test데이터의 정확도를 출력하시오."
      ]
    },
    {
      "cell_type": "code",
      "metadata": {
        "id": "gpPSLiRDjqrK",
        "colab_type": "code",
        "colab": {
          "base_uri": "https://localhost:8080/",
          "height": 35
        },
        "outputId": "d42db6ee-9534-4728-e60c-fb479cdea294"
      },
      "source": [
        "from sklearn.naive_bayes import GaussianNB\n",
        "\n",
        "NB_model = None\n",
        "accuracy = None\n",
        "############# Put your code here ################\n",
        "NB_model = GaussianNB()\n",
        "NB_model.fit(X_train, Y_train)\n",
        "Y_hat = NB_model.predict(X_test)\n",
        "accuracy = np.sum(np.where(Y_hat - Y_test==0, 1, 0)) / X_test.shape[0]\n",
        "################################################# \n",
        "print('Test data prediction accuracy (NaiveBayes) : %f'%accuracy)"
      ],
      "execution_count": 32,
      "outputs": [
        {
          "output_type": "stream",
          "text": [
            "Test data prediction accuracy (NaiveBayes) : 0.972222\n"
          ],
          "name": "stdout"
        }
      ]
    },
    {
      "cell_type": "markdown",
      "metadata": {
        "id": "sNJ-LfMEjqrM",
        "colab_type": "text"
      },
      "source": [
        "# # Problem 7\n",
        "Ensemble classifier.\n",
        "- 위의 6개의 모델(ID3, CART, Random Forest, XGBoost, LightGBM, Naive Bayes)을 이용하여 Voting(6개의 예측 label중 가장 많이 예측된 label을 최종 prediction label로 택하는것)방법으로 최종 label을 택한 뒤, 예측 정확도를 출력하시오.\n",
        "- Scikit-learn의 VotingClassifier 패키지를 사용하여 작성.\n",
        "- 위에서 학습시킨 모델 변수명 사용 가능."
      ]
    },
    {
      "cell_type": "code",
      "metadata": {
        "id": "FcYNgcGFjqrN",
        "colab_type": "code",
        "colab": {}
      },
      "source": [
        "from sklearn.ensemble import VotingClassifier\n",
        "\n",
        "ensemble_classifier = None\n",
        "accuracy = None\n",
        "############# Put your code here ################\n",
        "\n",
        "################################################# \n",
        "print('Test data prediction accuracy (Ensemble) : %f'%accuracy)"
      ],
      "execution_count": 0,
      "outputs": []
    }
  ]
}
